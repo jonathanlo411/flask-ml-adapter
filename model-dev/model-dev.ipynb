{
 "cells": [
  {
   "cell_type": "markdown",
   "id": "843992bc",
   "metadata": {},
   "source": [
    "# Model Development\n",
    "Purpose is to create classifier models to serialize for later use. Used in the demonstration of calling the model via HTTPS.<br>\n",
    "By: Jonathan Lo<br>\n",
    "Date: 8/14/23"
   ]
  },
  {
   "cell_type": "markdown",
   "id": "6ccf63aa",
   "metadata": {},
   "source": [
    "## Overhead"
   ]
  },
  {
   "cell_type": "code",
   "execution_count": 1,
   "id": "cf689b33",
   "metadata": {},
   "outputs": [],
   "source": [
    "# Imports\n",
    "import numpy as np\n",
    "import pandas as pd\n",
    "import os\n",
    "from joblib import dump, load\n",
    "\n",
    "from sklearn.ensemble import RandomForestClassifier, AdaBoostClassifier, GradientBoostingClassifier\n",
    "from sklearn.svm import SVC\n",
    "from sklearn.naive_bayes import GaussianNB\n",
    "\n",
    "from keras.models import Sequential\n",
    "from keras.layers import Dense\n",
    "import tensorflow as tf\n",
    "\n",
    "from sklearn.preprocessing import OneHotEncoder, StandardScaler\n",
    "from sklearn.compose import ColumnTransformer\n",
    "from sklearn.impute import SimpleImputer\n",
    "from sklearn.model_selection import train_test_split, cross_val_score\n",
    "from sklearn.pipeline import Pipeline\n",
    "from sklearn.metrics import accuracy_score\n",
    "\n",
    "from util import *"
   ]
  },
  {
   "cell_type": "code",
   "execution_count": 2,
   "id": "bd4e0f66",
   "metadata": {},
   "outputs": [],
   "source": [
    "# Ensuring Models folder exists\n",
    "if not os.path.exists(r'./../models'):\n",
    "    os.mkdir(r'./../models')"
   ]
  },
  {
   "cell_type": "code",
   "execution_count": 3,
   "id": "7654086b",
   "metadata": {},
   "outputs": [],
   "source": [
    "# Dataset Loading\n",
    "titanic_df = pd.read_csv(\"titanic.csv\")\n",
    "\n",
    "# Cleaning & Setup\n",
    "titanic_df = titanic_df.drop(['PassengerId', 'Name', 'Ticket', 'Cabin'], axis=1)\n",
    "categorical_cols = ['Sex', 'Embarked']\n",
    "numerical_cols = ['Pclass', 'Age', 'SibSp', 'Parch', 'Fare']\n",
    "X = titanic_df.drop('Survived', axis=1)\n",
    "y = titanic_df['Survived']\n",
    "\n",
    "# Train-test split\n",
    "X_train, X_test, y_train, y_test = train_test_split(X, y, test_size=0.2, random_state=42)"
   ]
  },
  {
   "cell_type": "code",
   "execution_count": 4,
   "id": "0d3d6d38",
   "metadata": {},
   "outputs": [],
   "source": [
    "# Pipeline Setup\n",
    "categorical_transformer = Pipeline(steps=[\n",
    "    ('imputer', SimpleImputer(strategy='most_frequent')),\n",
    "    ('onehot', OneHotEncoder(handle_unknown='ignore'))\n",
    "])\n",
    "numerical_transformer = Pipeline(steps=[\n",
    "    ('imputer', SimpleImputer(strategy='mean'))\n",
    "])\n",
    "preprocessor = ColumnTransformer(\n",
    "    transformers=[\n",
    "        ('cat', categorical_transformer, categorical_cols),\n",
    "        ('num', numerical_transformer, numerical_cols)\n",
    "    ])"
   ]
  },
  {
   "cell_type": "markdown",
   "id": "a7e0a180",
   "metadata": {},
   "source": [
    "## Random Forrest"
   ]
  },
  {
   "cell_type": "code",
   "execution_count": 5,
   "id": "0e62cd77",
   "metadata": {},
   "outputs": [
    {
     "name": "stdout",
     "output_type": "stream",
     "text": [
      "Test set accuracy: 0.8044692737430168\n"
     ]
    }
   ],
   "source": [
    "# Train RFC\n",
    "pipeline = Pipeline(steps=[\n",
    "    ('preprocessor', preprocessor),\n",
    "    ('classifier', RandomForestClassifier(random_state=1))\n",
    "])\n",
    "pipeline.fit(X_train, y_train)\n",
    "\n",
    "# Get Accuracy\n",
    "test_accuracy = pipeline.score(X_test, y_test)\n",
    "print(\"Test set accuracy:\", test_accuracy)"
   ]
  },
  {
   "cell_type": "code",
   "execution_count": 6,
   "id": "5bfca688",
   "metadata": {
    "scrolled": true
   },
   "outputs": [
    {
     "data": {
      "text/plain": [
       "['./../models/RandomForestClassifier.pkl']"
      ]
     },
     "execution_count": 6,
     "metadata": {},
     "output_type": "execute_result"
    }
   ],
   "source": [
    "# Seriealize\n",
    "dump(pipeline, \"./../models/RandomForestClassifier.pkl\")"
   ]
  },
  {
   "cell_type": "markdown",
   "id": "52a479d1",
   "metadata": {},
   "source": [
    "## AdaBoost"
   ]
  },
  {
   "cell_type": "code",
   "execution_count": 7,
   "id": "1b187239",
   "metadata": {},
   "outputs": [
    {
     "name": "stdout",
     "output_type": "stream",
     "text": [
      "Test set accuracy: 0.8044692737430168\n"
     ]
    }
   ],
   "source": [
    "# Train AdaBoost\n",
    "pipeline = Pipeline(steps=[\n",
    "    ('preprocessor', preprocessor),\n",
    "    ('classifier', AdaBoostClassifier(random_state=1))\n",
    "])\n",
    "pipeline.fit(X_train, y_train)\n",
    "\n",
    "# Get Accuracy\n",
    "test_accuracy = pipeline.score(X_test, y_test)\n",
    "print(\"Test set accuracy:\", test_accuracy)"
   ]
  },
  {
   "cell_type": "code",
   "execution_count": 8,
   "id": "8834ec67",
   "metadata": {
    "scrolled": true
   },
   "outputs": [
    {
     "data": {
      "text/plain": [
       "['./../models/AdaBoostClassifier.pkl']"
      ]
     },
     "execution_count": 8,
     "metadata": {},
     "output_type": "execute_result"
    }
   ],
   "source": [
    "# Serialize\n",
    "dump(pipeline, \"./../models/AdaBoostClassifier.pkl\")"
   ]
  },
  {
   "cell_type": "markdown",
   "id": "2d48623c",
   "metadata": {},
   "source": [
    "## Support Vector Machine"
   ]
  },
  {
   "cell_type": "code",
   "execution_count": 9,
   "id": "5d9e5e5c",
   "metadata": {
    "scrolled": true
   },
   "outputs": [
    {
     "name": "stdout",
     "output_type": "stream",
     "text": [
      "0.8156424581005587\n"
     ]
    }
   ],
   "source": [
    "# Train SVM\n",
    "pipeline = Pipeline(steps=[\n",
    "    ('preprocessor', preprocessor),\n",
    "    ('classifier', SVC(C=19, random_state=13))\n",
    "])\n",
    "pipeline.fit(X_train, y_train)\n",
    "\n",
    "# Get Accuracy\n",
    "test_accuracy = pipeline.score(X_test, y_test)\n",
    "print(test_accuracy)"
   ]
  },
  {
   "cell_type": "code",
   "execution_count": 10,
   "id": "75c48f38",
   "metadata": {},
   "outputs": [
    {
     "data": {
      "text/plain": [
       "['./../models/SupportVectorClassifier.pkl']"
      ]
     },
     "execution_count": 10,
     "metadata": {},
     "output_type": "execute_result"
    }
   ],
   "source": [
    "# Serialize\n",
    "dump(pipeline, \"./../models/SupportVectorClassifier.pkl\")"
   ]
  },
  {
   "cell_type": "markdown",
   "id": "6509c2e9",
   "metadata": {},
   "source": [
    "## Gaussian Naive Bayes"
   ]
  },
  {
   "cell_type": "code",
   "execution_count": 11,
   "id": "18a97935",
   "metadata": {
    "scrolled": true
   },
   "outputs": [
    {
     "name": "stdout",
     "output_type": "stream",
     "text": [
      "0.776536312849162\n"
     ]
    }
   ],
   "source": [
    "# Train Naive Bayes\n",
    "pipeline = Pipeline(steps=[\n",
    "    ('preprocessor', preprocessor),\n",
    "    ('classifier', GaussianNB())\n",
    "])\n",
    "pipeline.fit(X_train, y_train)\n",
    "\n",
    "# Get Accuracy\n",
    "test_accuracy = pipeline.score(X_test, y_test)\n",
    "print(test_accuracy)"
   ]
  },
  {
   "cell_type": "code",
   "execution_count": 12,
   "id": "dd3da5d9",
   "metadata": {},
   "outputs": [
    {
     "data": {
      "text/plain": [
       "['./../models/GaussianNaiveBayes.pkl']"
      ]
     },
     "execution_count": 12,
     "metadata": {},
     "output_type": "execute_result"
    }
   ],
   "source": [
    "# Serialize\n",
    "dump(pipeline, \"./../models/GaussianNaiveBayes.pkl\")"
   ]
  },
  {
   "cell_type": "markdown",
   "id": "fbf723aa",
   "metadata": {},
   "source": [
    "## Gradient Boost Classifier"
   ]
  },
  {
   "cell_type": "code",
   "execution_count": null,
   "id": "4f01bbfc",
   "metadata": {},
   "outputs": [],
   "source": []
  },
  {
   "cell_type": "markdown",
   "id": "65da10f2",
   "metadata": {},
   "source": [
    "## Nerual Network (Keras)"
   ]
  },
  {
   "cell_type": "code",
   "execution_count": 13,
   "id": "cbd18bcd",
   "metadata": {},
   "outputs": [
    {
     "name": "stdout",
     "output_type": "stream",
     "text": [
      "6/6 [==============================] - 0s 800us/step\n",
      "Accuracy: 0.8156424581005587\n"
     ]
    }
   ],
   "source": [
    "\n",
    "# Load the Titanic dataset\n",
    "titanic_data = pd.read_csv(\"titanic.csv\")\n",
    "\n",
    "# Preprocess the data\n",
    "titanic_data = preproccess_nn(titanic_data)\n",
    "\n",
    "# Split the data into features (X) and target (y)\n",
    "X = titanic_data.drop(\"Survived\", axis=1)\n",
    "y = titanic_data[\"Survived\"]\n",
    "\n",
    "# Split the data into train and test sets\n",
    "X_train, X_test, y_train, y_test = train_test_split(X, y, test_size=0.2, random_state=42)\n",
    "\n",
    "# Standardize the features\n",
    "scaler = StandardScaler()\n",
    "X_train = scaler.fit_transform(X_train)\n",
    "X_test = scaler.transform(X_test)\n",
    "\n",
    "# Create a simple neural network model\n",
    "model = Sequential()\n",
    "model.add(Dense(32, activation=\"relu\", input_dim=X_train.shape[1]))\n",
    "model.add(Dense(16, activation=\"sigmoid\"))\n",
    "model.add(Dense(1, activation=\"sigmoid\"))\n",
    "\n",
    "# Compile the model\n",
    "model.compile(optimizer=\"adam\", loss=\"binary_crossentropy\", metrics=[\"accuracy\"])\n",
    "\n",
    "# Train the model\n",
    "model.fit(X_train, y_train, epochs=50, batch_size=32, verbose=0)\n",
    "\n",
    "# Make predictions\n",
    "y_pred_prob = model.predict(X_test)\n",
    "y_pred = (y_pred_prob > 0.5).astype(int)\n",
    "\n",
    "# Evaluate the model\n",
    "accuracy = accuracy_score(y_test, y_pred)\n",
    "print(\"Accuracy:\", accuracy)"
   ]
  },
  {
   "cell_type": "code",
   "execution_count": 14,
   "id": "d854b44b",
   "metadata": {},
   "outputs": [
    {
     "data": {
      "text/plain": [
       "['./../models/KerasFNN.pkl']"
      ]
     },
     "execution_count": 14,
     "metadata": {},
     "output_type": "execute_result"
    }
   ],
   "source": [
    "# Serialize\n",
    "dump(model, \"./../models/KerasFNN.pkl\")"
   ]
  }
 ],
 "metadata": {
  "kernelspec": {
   "display_name": "Python 3 (ipykernel)",
   "language": "python",
   "name": "python3"
  },
  "language_info": {
   "codemirror_mode": {
    "name": "ipython",
    "version": 3
   },
   "file_extension": ".py",
   "mimetype": "text/x-python",
   "name": "python",
   "nbconvert_exporter": "python",
   "pygments_lexer": "ipython3",
   "version": "3.10.9"
  }
 },
 "nbformat": 4,
 "nbformat_minor": 5
}
