{
 "cells": [
  {
   "cell_type": "markdown",
   "id": "843992bc",
   "metadata": {},
   "source": [
    "# Model Development\n",
    "By: Jonathan Lo<br>\n",
    "Date: 8/14/23"
   ]
  },
  {
   "cell_type": "markdown",
   "id": "6ccf63aa",
   "metadata": {},
   "source": [
    "## Overhead"
   ]
  },
  {
   "cell_type": "code",
   "execution_count": 1,
   "id": "cf689b33",
   "metadata": {},
   "outputs": [],
   "source": [
    "# Imports\n",
    "import pandas as pd\n",
    "import os\n",
    "\n",
    "from sklearn.ensemble import RandomForestClassifier, AdaBoostClassifier\n",
    "from sklearn.preprocessing import OneHotEncoder\n",
    "from sklearn.compose import ColumnTransformer\n",
    "from sklearn.impute import SimpleImputer\n",
    "from sklearn.model_selection import train_test_split, cross_val_score\n",
    "from sklearn.pipeline import Pipeline\n",
    "from joblib import dump, load"
   ]
  },
  {
   "cell_type": "code",
   "execution_count": 2,
   "id": "bd4e0f66",
   "metadata": {},
   "outputs": [],
   "source": [
    "# Ensuring Models folder exists\n",
    "if not os.path.exists(r'./../models'):\n",
    "    os.mkdir(r'./../models')"
   ]
  },
  {
   "cell_type": "code",
   "execution_count": 3,
   "id": "7654086b",
   "metadata": {},
   "outputs": [],
   "source": [
    "# Dataset Loading\n",
    "titanic_df = pd.read_csv(\"titanic.csv\")\n",
    "\n",
    "# Cleaning & Setup\n",
    "titanic_df = titanic_df.drop(['PassengerId', 'Name', 'Ticket', 'Cabin'], axis=1)\n",
    "categorical_cols = ['Sex', 'Embarked']\n",
    "numerical_cols = ['Pclass', 'Age', 'SibSp', 'Parch', 'Fare']\n",
    "X = titanic_df.drop('Survived', axis=1)\n",
    "y = titanic_df['Survived']\n",
    "\n",
    "# Train-test split\n",
    "X_train, X_test, y_train, y_test = train_test_split(X, y, test_size=0.2, random_state=42)"
   ]
  },
  {
   "cell_type": "code",
   "execution_count": 4,
   "id": "0d3d6d38",
   "metadata": {},
   "outputs": [],
   "source": [
    "# Pipeline Setup\n",
    "categorical_transformer = Pipeline(steps=[\n",
    "    ('imputer', SimpleImputer(strategy='most_frequent')),\n",
    "    ('onehot', OneHotEncoder(handle_unknown='ignore'))\n",
    "])\n",
    "numerical_transformer = Pipeline(steps=[\n",
    "    ('imputer', SimpleImputer(strategy='mean'))\n",
    "])\n",
    "preprocessor = ColumnTransformer(\n",
    "    transformers=[\n",
    "        ('cat', categorical_transformer, categorical_cols),\n",
    "        ('num', numerical_transformer, numerical_cols)\n",
    "    ])"
   ]
  },
  {
   "cell_type": "markdown",
   "id": "a7e0a180",
   "metadata": {},
   "source": [
    "## Random Forrest"
   ]
  },
  {
   "cell_type": "code",
   "execution_count": 5,
   "id": "0e62cd77",
   "metadata": {},
   "outputs": [
    {
     "name": "stdout",
     "output_type": "stream",
     "text": [
      "Test set accuracy: 0.8044692737430168\n"
     ]
    }
   ],
   "source": [
    "# Train RFC\n",
    "pipeline = Pipeline(steps=[\n",
    "    ('preprocessor', preprocessor),\n",
    "    ('classifier', RandomForestClassifier(random_state=1))\n",
    "])\n",
    "pipeline.fit(X_train, y_train)\n",
    "\n",
    "# Get Accuracy\n",
    "test_accuracy = pipeline.score(X_test, y_test)\n",
    "print(\"Test set accuracy:\", test_accuracy)"
   ]
  },
  {
   "cell_type": "code",
   "execution_count": 6,
   "id": "5bfca688",
   "metadata": {
    "scrolled": true
   },
   "outputs": [
    {
     "data": {
      "text/plain": [
       "['./../models/RandomForestClassifier.pkl']"
      ]
     },
     "execution_count": 6,
     "metadata": {},
     "output_type": "execute_result"
    }
   ],
   "source": [
    "# Seriealize\n",
    "dump(pipeline, \"./../models/RandomForestClassifier.pkl\")"
   ]
  },
  {
   "cell_type": "code",
   "execution_count": 35,
   "id": "1160a4d7",
   "metadata": {
    "scrolled": false
   },
   "outputs": [
    {
     "name": "stdout",
     "output_type": "stream",
     "text": [
      "{'message': 'Model prediction for model: AdaBoostClassifier.pkl', 'prediction': 0, 'success': 1}\n"
     ]
    }
   ],
   "source": [
    "import requests\n",
    "\n",
    "res = requests.post(\n",
    "    url=\"http://127.0.0.1:5000/api/model\",\n",
    "    params = {\n",
    "        \"model\": \"AdaBoostClassifier.pkl\"\n",
    "    },\n",
    "    headers = {\n",
    "        \"Content-Type\": \"application/json\"\n",
    "    },\n",
    "    json = {\n",
    "        \"PassengerId\": \"7\",\n",
    "        \"Pclass\": \"1\",\n",
    "        \"Name\": \"McCarthy, Mr. Timothy J\",\n",
    "        \"Sex\": \"male\",\n",
    "        \"Age\": \"54\",\n",
    "        \"SibSp\": \"0\",\n",
    "        \"Parch\": \"0\",\n",
    "        \"Ticket\": \"17463\",\n",
    "        \"Fare\": \"51.8625\",\n",
    "        \"Cabin\": \"E46\",\n",
    "        \"Embarked\": \"S\"\n",
    "    }\n",
    ")"
   ]
  },
  {
   "cell_type": "markdown",
   "id": "52a479d1",
   "metadata": {},
   "source": [
    "## AdaBoost"
   ]
  },
  {
   "cell_type": "code",
   "execution_count": 7,
   "id": "1b187239",
   "metadata": {},
   "outputs": [
    {
     "name": "stdout",
     "output_type": "stream",
     "text": [
      "Test set accuracy: 0.8044692737430168\n"
     ]
    }
   ],
   "source": [
    "# Train AdaBoost\n",
    "pipeline = Pipeline(steps=[\n",
    "    ('preprocessor', preprocessor),\n",
    "    ('classifier', AdaBoostClassifier(random_state=1))\n",
    "])\n",
    "pipeline.fit(X_train, y_train)\n",
    "\n",
    "# Get Accuracy\n",
    "test_accuracy = pipeline.score(X_test, y_test)\n",
    "print(\"Test set accuracy:\", test_accuracy)"
   ]
  },
  {
   "cell_type": "code",
   "execution_count": 8,
   "id": "8834ec67",
   "metadata": {},
   "outputs": [
    {
     "data": {
      "text/plain": [
       "['./../models/AdaBoostClassifier.pkl']"
      ]
     },
     "execution_count": 8,
     "metadata": {},
     "output_type": "execute_result"
    }
   ],
   "source": [
    "# Serialize\n",
    "dump(pipeline, \"./../models/AdaBoostClassifier.pkl\")"
   ]
  }
 ],
 "metadata": {
  "kernelspec": {
   "display_name": "Python 3 (ipykernel)",
   "language": "python",
   "name": "python3"
  },
  "language_info": {
   "codemirror_mode": {
    "name": "ipython",
    "version": 3
   },
   "file_extension": ".py",
   "mimetype": "text/x-python",
   "name": "python",
   "nbconvert_exporter": "python",
   "pygments_lexer": "ipython3",
   "version": "3.10.9"
  }
 },
 "nbformat": 4,
 "nbformat_minor": 5
}
